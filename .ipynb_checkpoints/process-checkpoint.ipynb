{
 "cells": [
  {
   "cell_type": "code",
   "execution_count": 1,
   "metadata": {
    "collapsed": true
   },
   "outputs": [],
   "source": [
    "library(stringr)\n",
    "source('tools.R')"
   ]
  },
  {
   "cell_type": "code",
   "execution_count": 8,
   "metadata": {
    "collapsed": true
   },
   "outputs": [],
   "source": [
    "genecount=read.csv(\"mouse_skin_bulk_cell_RNAseq_weiya_genecount.csv\",header = TRUE)\n",
    "#genecount=genecount[-(1:5),]"
   ]
  },
  {
   "cell_type": "code",
   "execution_count": 9,
   "metadata": {},
   "outputs": [
    {
     "data": {
      "text/html": [
       "<table>\n",
       "<thead><tr><th scope=col>gene</th><th scope=col>Mouse.sphere_L2_A007.R1.clean</th><th scope=col>Mouse.adhere_L2_A008.R1.clean</th><th scope=col>a.1_L1_A001.R1.clean</th><th scope=col>a.2_L1_A002.R1.clean</th><th scope=col>a.3_L1_A004.R1.clean</th><th scope=col>a.4_L1_A005.R1.clean</th><th scope=col>a.5_L1_A006.R1.clean</th><th scope=col>a.6_L1_A008.R1.clean</th><th scope=col>a.7_L1_A009.R1.clean</th><th scope=col>a.8_L1_A010.R1.clean</th><th scope=col>a.9_L3_A010.R1.clean</th></tr></thead>\n",
       "<tbody>\n",
       "\t<tr><td>Krt14  </td><td>116521 </td><td>168982 </td><td>255992 </td><td> 60901 </td><td>264177 </td><td> 67197 </td><td>117023 </td><td>  6101 </td><td> 42582 </td><td> 83254 </td><td>  6809 </td></tr>\n",
       "\t<tr><td>Krt5   </td><td> 70427 </td><td>127190 </td><td>252268 </td><td> 85756 </td><td>245152 </td><td> 80457 </td><td>108454 </td><td> 24161 </td><td>122299 </td><td>192642 </td><td>164666 </td></tr>\n",
       "\t<tr><td>Col17a1</td><td> 31608 </td><td> 57339 </td><td>139484 </td><td> 57192 </td><td>127325 </td><td> 49741 </td><td> 58904 </td><td>  5136 </td><td>128499 </td><td>186308 </td><td> 90737 </td></tr>\n",
       "\t<tr><td>Eef1a1 </td><td>108951 </td><td>150977 </td><td>130601 </td><td> 98288 </td><td>130638 </td><td>111269 </td><td>102300 </td><td> 57610 </td><td> 62998 </td><td>113432 </td><td> 95959 </td></tr>\n",
       "\t<tr><td>Fosb   </td><td>   152 </td><td>    78 </td><td>122636 </td><td>107081 </td><td>166449 </td><td>125718 </td><td>164809 </td><td>108340 </td><td> 97499 </td><td>256986 </td><td>116907 </td></tr>\n",
       "\t<tr><td>mt-Co1 </td><td>153028 </td><td> 49811 </td><td>109173 </td><td>171579 </td><td>121259 </td><td>203647 </td><td>205579 </td><td>146694 </td><td> 94379 </td><td>204867 </td><td>302863 </td></tr>\n",
       "</tbody>\n",
       "</table>\n"
      ],
      "text/latex": [
       "\\begin{tabular}{r|llllllllllll}\n",
       " gene & Mouse.sphere\\_L2\\_A007.R1.clean & Mouse.adhere\\_L2\\_A008.R1.clean & a.1\\_L1\\_A001.R1.clean & a.2\\_L1\\_A002.R1.clean & a.3\\_L1\\_A004.R1.clean & a.4\\_L1\\_A005.R1.clean & a.5\\_L1\\_A006.R1.clean & a.6\\_L1\\_A008.R1.clean & a.7\\_L1\\_A009.R1.clean & a.8\\_L1\\_A010.R1.clean & a.9\\_L3\\_A010.R1.clean\\\\\n",
       "\\hline\n",
       "\t Krt14   & 116521  & 168982  & 255992  &  60901  & 264177  &  67197  & 117023  &   6101  &  42582  &  83254  &   6809 \\\\\n",
       "\t Krt5    &  70427  & 127190  & 252268  &  85756  & 245152  &  80457  & 108454  &  24161  & 122299  & 192642  & 164666 \\\\\n",
       "\t Col17a1 &  31608  &  57339  & 139484  &  57192  & 127325  &  49741  &  58904  &   5136  & 128499  & 186308  &  90737 \\\\\n",
       "\t Eef1a1  & 108951  & 150977  & 130601  &  98288  & 130638  & 111269  & 102300  &  57610  &  62998  & 113432  &  95959 \\\\\n",
       "\t Fosb    &    152  &     78  & 122636  & 107081  & 166449  & 125718  & 164809  & 108340  &  97499  & 256986  & 116907 \\\\\n",
       "\t mt-Co1  & 153028  &  49811  & 109173  & 171579  & 121259  & 203647  & 205579  & 146694  &  94379  & 204867  & 302863 \\\\\n",
       "\\end{tabular}\n"
      ],
      "text/markdown": [
       "\n",
       "gene | Mouse.sphere_L2_A007.R1.clean | Mouse.adhere_L2_A008.R1.clean | a.1_L1_A001.R1.clean | a.2_L1_A002.R1.clean | a.3_L1_A004.R1.clean | a.4_L1_A005.R1.clean | a.5_L1_A006.R1.clean | a.6_L1_A008.R1.clean | a.7_L1_A009.R1.clean | a.8_L1_A010.R1.clean | a.9_L3_A010.R1.clean | \n",
       "|---|---|---|---|---|---|\n",
       "| Krt14   | 116521  | 168982  | 255992  |  60901  | 264177  |  67197  | 117023  |   6101  |  42582  |  83254  |   6809  | \n",
       "| Krt5    |  70427  | 127190  | 252268  |  85756  | 245152  |  80457  | 108454  |  24161  | 122299  | 192642  | 164666  | \n",
       "| Col17a1 |  31608  |  57339  | 139484  |  57192  | 127325  |  49741  |  58904  |   5136  | 128499  | 186308  |  90737  | \n",
       "| Eef1a1  | 108951  | 150977  | 130601  |  98288  | 130638  | 111269  | 102300  |  57610  |  62998  | 113432  |  95959  | \n",
       "| Fosb    |    152  |     78  | 122636  | 107081  | 166449  | 125718  | 164809  | 108340  |  97499  | 256986  | 116907  | \n",
       "| mt-Co1  | 153028  |  49811  | 109173  | 171579  | 121259  | 203647  | 205579  | 146694  |  94379  | 204867  | 302863  | \n",
       "\n",
       "\n"
      ],
      "text/plain": [
       "  gene    Mouse.sphere_L2_A007.R1.clean Mouse.adhere_L2_A008.R1.clean\n",
       "1 Krt14   116521                        168982                       \n",
       "2 Krt5     70427                        127190                       \n",
       "3 Col17a1  31608                         57339                       \n",
       "4 Eef1a1  108951                        150977                       \n",
       "5 Fosb       152                            78                       \n",
       "6 mt-Co1  153028                         49811                       \n",
       "  a.1_L1_A001.R1.clean a.2_L1_A002.R1.clean a.3_L1_A004.R1.clean\n",
       "1 255992                60901               264177              \n",
       "2 252268                85756               245152              \n",
       "3 139484                57192               127325              \n",
       "4 130601                98288               130638              \n",
       "5 122636               107081               166449              \n",
       "6 109173               171579               121259              \n",
       "  a.4_L1_A005.R1.clean a.5_L1_A006.R1.clean a.6_L1_A008.R1.clean\n",
       "1  67197               117023                 6101              \n",
       "2  80457               108454                24161              \n",
       "3  49741                58904                 5136              \n",
       "4 111269               102300                57610              \n",
       "5 125718               164809               108340              \n",
       "6 203647               205579               146694              \n",
       "  a.7_L1_A009.R1.clean a.8_L1_A010.R1.clean a.9_L3_A010.R1.clean\n",
       "1  42582                83254                 6809              \n",
       "2 122299               192642               164666              \n",
       "3 128499               186308                90737              \n",
       "4  62998               113432                95959              \n",
       "5  97499               256986               116907              \n",
       "6  94379               204867               302863              "
      ]
     },
     "metadata": {},
     "output_type": "display_data"
    }
   ],
   "source": [
    "head(genecount)"
   ]
  },
  {
   "cell_type": "code",
   "execution_count": 13,
   "metadata": {},
   "outputs": [
    {
     "name": "stdout",
     "output_type": "stream",
     "text": [
      "2018-09-11 14:44:19 INFO: Running TPM normalisation \n"
     ]
    }
   ],
   "source": [
    "uniq.gene=unique(as.character(genecount$gene))\n",
    "genecount=genecount[genecount$gene%in%uniq.gene,]\n",
    "\n",
    "scale.reads=as.data.frame(scale(genecount[,-1]))\n",
    "tpm.reads=data.frame(log(1+tpm(genecount[,-1])))"
   ]
  },
  {
   "cell_type": "code",
   "execution_count": 16,
   "metadata": {
    "collapsed": true
   },
   "outputs": [],
   "source": [
    "scale.reads<-cbind(data.frame(gene=genecount$gene),scale.reads)\n",
    "tpm.reads<-cbind(data.frame(gene=genecount$gene),tpm.reads)\n",
    "write.table(scale.reads,file = \"scale.reads.csv\",row.names = FALSE,sep=\",\")\n",
    "write.table(tpm.reads,file = \"tpm.reads.csv\",row.names = FALSE,sep=\",\")"
   ]
  }
 ],
 "metadata": {
  "kernelspec": {
   "display_name": "R",
   "language": "R",
   "name": "ir"
  },
  "language_info": {
   "codemirror_mode": "r",
   "file_extension": ".r",
   "mimetype": "text/x-r-source",
   "name": "R",
   "pygments_lexer": "r",
   "version": "3.4.2"
  }
 },
 "nbformat": 4,
 "nbformat_minor": 2
}
